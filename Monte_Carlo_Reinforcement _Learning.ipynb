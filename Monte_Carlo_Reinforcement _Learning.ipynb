{
 "cells": [
  {
   "cell_type": "markdown",
   "metadata": {},
   "source": [
    "# Reinforcement Learning-Monte Carlo-Exploring with start state-Greedt approach"
   ]
  },
  {
   "cell_type": "markdown",
   "metadata": {},
   "source": [
    "https://medium.com/@zsalloum/monte-carlo-in-reinforcement-learning-the-easy-way-564c53010511\n"
   ]
  },
  {
   "cell_type": "code",
   "execution_count": null,
   "metadata": {
    "collapsed": true
   },
   "outputs": [],
   "source": [
    "#Importing required Modules\n",
    "import pandas as pd\n",
    "import numpy as np\n",
    "import matplotlib.pyplot as plt"
   ]
  },
  {
   "cell_type": "code",
   "execution_count": 4,
   "metadata": {
    "collapsed": false
   },
   "outputs": [],
   "source": [
    "#Start=S\n",
    "#Goal=G(End)\n",
    "#W=Wall(Cannot pass)\n",
    "#X=way(You can pass)\n",
    "#Grid = np.zeros(shape=(6,6))\n",
    "Grid=np.array([['X','X','W','X','X','X'],\n",
    "     ['X','S','X','X','X','X'],\n",
    "     ['X','X','X','W','X','X'],\n",
    "     ['X','W','X','X','X','X'],\n",
    "     ['X','X','X','X','W','X'],\n",
    "     ['X','X','X','X','G','X']])"
   ]
  },
  {
   "cell_type": "code",
   "execution_count": 5,
   "metadata": {
    "collapsed": false
   },
   "outputs": [
    {
     "data": {
      "text/plain": [
       "(6, 6)"
      ]
     },
     "execution_count": 5,
     "metadata": {},
     "output_type": "execute_result"
    }
   ],
   "source": [
    "Grid.shape"
   ]
  },
  {
   "cell_type": "code",
   "execution_count": 6,
   "metadata": {
    "collapsed": false
   },
   "outputs": [
    {
     "name": "stdout",
     "output_type": "stream",
     "text": [
      "Width & Height  : 6 6\n",
      "Start Postion  : (1, 1)\n"
     ]
    }
   ],
   "source": [
    "#Get the dimensions of the map and Start postion in this case start positon is predefined as per the algorithm\n",
    "width = Grid.shape[0]\n",
    "height = Grid.shape[1]\n",
    "print(\"Width & Height  :\",width,height)\n",
    "for i  in range(width):\n",
    "    for j in range(height):\n",
    "        if Grid[i][j]=='S':\n",
    "            start=(i,j)\n",
    "print(\"Start Postion  :\",start)"
   ]
  },
  {
   "cell_type": "code",
   "execution_count": 7,
   "metadata": {
    "collapsed": false
   },
   "outputs": [
    {
     "name": "stdout",
     "output_type": "stream",
     "text": [
      "(0, 0) 1\n",
      "(0, 1) 1\n",
      "(0, 2) -1\n",
      "(0, 3) 1\n",
      "(0, 4) 1\n",
      "(0, 5) 1\n",
      "(1, 0) 1\n",
      "(1, 1) 1\n",
      "(1, 2) 1\n",
      "(1, 3) 1\n",
      "(1, 4) 1\n",
      "(1, 5) 1\n",
      "(2, 0) 1\n",
      "(2, 1) 1\n",
      "(2, 2) 1\n",
      "(2, 3) -1\n",
      "(2, 4) 1\n",
      "(2, 5) 1\n",
      "(3, 0) 1\n",
      "(3, 1) -1\n",
      "(3, 2) 1\n",
      "(3, 3) 1\n",
      "(3, 4) 1\n",
      "(3, 5) 1\n",
      "(4, 0) 1\n",
      "(4, 1) 1\n",
      "(4, 2) 1\n",
      "(4, 3) 1\n",
      "(4, 4) -1\n",
      "(4, 5) 1\n",
      "(5, 0) 1\n",
      "(5, 1) 1\n",
      "(5, 2) 1\n",
      "(5, 3) 1\n",
      "(5, 4) 1\n",
      "(5, 5) 1\n",
      "(0, 0) ['R', 'D']\n",
      "(0, 1) ['R', 'D', 'L']\n",
      "(0, 2) ['R', 'D', 'L']\n",
      "(0, 3) ['R', 'D', 'L']\n",
      "(0, 4) ['R', 'D', 'L']\n",
      "(0, 5) ['D', 'L']\n",
      "(1, 0) ['U', 'R', 'D']\n",
      "(1, 1) ['U', 'R', 'D', 'L']\n",
      "(1, 2) ['U', 'R', 'D', 'L']\n",
      "(1, 3) ['U', 'R', 'D', 'L']\n",
      "(1, 4) ['U', 'R', 'D', 'L']\n",
      "(1, 5) ['U', 'D', 'L']\n",
      "(2, 0) ['U', 'R', 'D']\n",
      "(2, 1) ['U', 'R', 'D', 'L']\n",
      "(2, 2) ['U', 'R', 'D', 'L']\n",
      "(2, 3) ['U', 'R', 'D', 'L']\n",
      "(2, 4) ['U', 'R', 'D', 'L']\n",
      "(2, 5) ['U', 'D', 'L']\n",
      "(3, 0) ['U', 'R', 'D']\n",
      "(3, 1) ['U', 'R', 'D', 'L']\n",
      "(3, 2) ['U', 'R', 'D', 'L']\n",
      "(3, 3) ['U', 'R', 'D', 'L']\n",
      "(3, 4) ['U', 'R', 'D', 'L']\n",
      "(3, 5) ['U', 'D', 'L']\n",
      "(4, 0) ['U', 'R', 'D']\n",
      "(4, 1) ['U', 'R', 'D', 'L']\n",
      "(4, 2) ['U', 'R', 'D', 'L']\n",
      "(4, 3) ['U', 'R', 'D', 'L']\n",
      "(4, 4) ['U', 'R', 'D', 'L']\n",
      "(4, 5) ['U', 'D', 'L']\n",
      "(5, 0) ['U', 'R']\n",
      "(5, 1) ['U', 'R', 'L']\n",
      "(5, 2) ['U', 'R', 'L']\n",
      "(5, 3) ['U', 'R', 'L']\n",
      "(5, 4) ['U', 'R', 'L']\n",
      "(5, 5) ['U', 'L']\n"
     ]
    }
   ],
   "source": [
    "# rewards should be a dict of: (row, col): reward\n",
    "# actions should be a dict of: (row, col): list of possible actions to move agent\n",
    "rewards={}\n",
    "actions={}\n",
    "#Set rewards\n",
    "for i  in range(width):\n",
    "    for j in range(height):\n",
    "        if Grid[i][j]=='W':\n",
    "            rewards[(i,j)]=-1\n",
    "        else:\n",
    "            rewards[(i,j)]=1\n",
    "for k,v in rewards.items():\n",
    "    print(k,v)\n",
    "#set actions at each state\n",
    "for i  in range(width):\n",
    "    for j in range(height):\n",
    "        if i==0:\n",
    "            if j==0:\n",
    "                actions[(i,j)]=['R','D']\n",
    "            elif j== width-1:\n",
    "                actions[(i,j)]=['D','L']\n",
    "            else:\n",
    "                actions[(i,j)]=['R','D','L']\n",
    "        if i>0 and i<height-1:\n",
    "            if j==0:\n",
    "                actions[(i,j)]=['U','R','D']\n",
    "            elif j==width-1:\n",
    "                actions[(i,j)]=['U','D','L']\n",
    "            else:\n",
    "                actions[(i,j)]=['U','R','D','L']\n",
    "        if i== height-1:\n",
    "            if j==0:\n",
    "                actions[(i,j)]=['U','R']\n",
    "            elif j== width-1:\n",
    "                actions[(i,j)]=['U','L']\n",
    "            else:\n",
    "                actions[(i,j)]=['U','R','L']\n",
    "for k,v in actions.items():\n",
    "    print(k,v)"
   ]
  },
  {
   "cell_type": "code",
   "execution_count": 8,
   "metadata": {
    "collapsed": true
   },
   "outputs": [],
   "source": [
    "SMALL_ENOUGH = 1e-3\n",
    "GAMMA = 0.9\n",
    "ALL_POSSIBLE_ACTIONS = ['U', 'D', 'L', 'R']"
   ]
  },
  {
   "cell_type": "code",
   "execution_count": 9,
   "metadata": {
    "collapsed": false
   },
   "outputs": [
    {
     "name": "stdout",
     "output_type": "stream",
     "text": [
      "initial policy:\n",
      "------------------------------------\n",
      "  U  |  R  |  L  |  R  |  U  |  L  |\n",
      "------------------------------------\n",
      "  U  |  D  |  D  |  L  |  D  |  R  |\n",
      "------------------------------------\n",
      "  U  |  D  |  D  |  L  |  U  |  D  |\n",
      "------------------------------------\n",
      "  R  |  R  |  D  |  D  |  U  |  U  |\n",
      "------------------------------------\n",
      "  L  |  U  |  L  |  U  |  R  |  L  |\n",
      "------------------------------------\n",
      "  R  |  R  |  L  |  R  |  D  |  R  |\n"
     ]
    }
   ],
   "source": [
    "# state -> action\n",
    "# initialize a random policy\n",
    "policy = {}\n",
    "for state in actions.keys():\n",
    "    policy[state] = np.random.choice(ALL_POSSIBLE_ACTIONS)\n",
    "# initial policy\n",
    "\n",
    "def print_policy(P, g):\n",
    "  for i in range(width):\n",
    "    print(\"------------------------------------\")\n",
    "    for j in range(height):\n",
    "        a = P[(i,j)]\n",
    "        print(\"  %s  |\" % a, end=\"\")\n",
    "    print(\"\")\n",
    "print(\"initial policy:\")\n",
    "print_policy(policy, Grid)"
   ]
  },
  {
   "cell_type": "code",
   "execution_count": 19,
   "metadata": {
    "collapsed": false
   },
   "outputs": [
    {
     "name": "stdout",
     "output_type": "stream",
     "text": [
      "{(0, 0): {'U': 0, 'D': 0, 'L': 0, 'R': 0}, (0, 1): {'U': 0, 'D': 0, 'L': 0, 'R': 0}, (0, 2): {'U': 0, 'D': 0, 'L': 0, 'R': 0}, (0, 3): {'U': 0, 'D': 0, 'L': 0, 'R': 0}, (0, 4): {'U': 0, 'D': 0, 'L': 0, 'R': 0}, (0, 5): {'U': 0, 'D': 0, 'L': 0, 'R': 0}, (1, 0): {'U': 0, 'D': 0, 'L': 0, 'R': 0}, (1, 1): {'U': 0, 'D': 0, 'L': 0, 'R': 0}, (1, 2): {'U': 0, 'D': 0, 'L': 0, 'R': 0}, (1, 3): {'U': 0, 'D': 0, 'L': 0, 'R': 0}, (1, 4): {'U': 0, 'D': 0, 'L': 0, 'R': 0}, (1, 5): {'U': 0, 'D': 0, 'L': 0, 'R': 0}, (2, 0): {'U': 0, 'D': 0, 'L': 0, 'R': 0}, (2, 1): {'U': 0, 'D': 0, 'L': 0, 'R': 0}, (2, 2): {'U': 0, 'D': 0, 'L': 0, 'R': 0}, (2, 3): {'U': 0, 'D': 0, 'L': 0, 'R': 0}, (2, 4): {'U': 0, 'D': 0, 'L': 0, 'R': 0}, (2, 5): {'U': 0, 'D': 0, 'L': 0, 'R': 0}, (3, 0): {'U': 0, 'D': 0, 'L': 0, 'R': 0}, (3, 1): {'U': 0, 'D': 0, 'L': 0, 'R': 0}, (3, 2): {'U': 0, 'D': 0, 'L': 0, 'R': 0}, (3, 3): {'U': 0, 'D': 0, 'L': 0, 'R': 0}, (3, 4): {'U': 0, 'D': 0, 'L': 0, 'R': 0}, (3, 5): {'U': 0, 'D': 0, 'L': 0, 'R': 0}, (4, 0): {'U': 0, 'D': 0, 'L': 0, 'R': 0}, (4, 1): {'U': 0, 'D': 0, 'L': 0, 'R': 0}, (4, 2): {'U': 0, 'D': 0, 'L': 0, 'R': 0}, (4, 3): {'U': 0, 'D': 0, 'L': 0, 'R': 0}, (4, 4): {'U': 0, 'D': 0, 'L': 0, 'R': 0}, (4, 5): {'U': 0, 'D': 0, 'L': 0, 'R': 0}, (5, 0): {'U': 0, 'D': 0, 'L': 0, 'R': 0}, (5, 1): {'U': 0, 'D': 0, 'L': 0, 'R': 0}, (5, 2): {'U': 0, 'D': 0, 'L': 0, 'R': 0}, (5, 3): {'U': 0, 'D': 0, 'L': 0, 'R': 0}, (5, 4): {'U': 0, 'D': 0, 'L': 0, 'R': 0}, (5, 5): {'U': 0, 'D': 0, 'L': 0, 'R': 0}}\n"
     ]
    }
   ],
   "source": [
    "# initial Q values for all states in grid\n",
    "# initialize Q(s,a) and returns\n",
    "Q = {}\n",
    "returns = {} # dictionary of state -> list of returns we've received\n",
    "states = actions.keys()\n",
    "for s in states:\n",
    "  if s in actions.keys(): # not a terminal state\n",
    "    Q[s] = {}\n",
    "    for a in ALL_POSSIBLE_ACTIONS:\n",
    "      Q[s][a] = 0\n",
    "      returns[(s,a)] = []\n",
    "  else:\n",
    "    # terminal state or state we can't otherwise get to\n",
    "    pass\n",
    "  \n",
    "# initial Q values for all states in grid\n",
    "print(Q)"
   ]
  },
  {
   "cell_type": "code",
   "execution_count": 20,
   "metadata": {
    "collapsed": true
   },
   "outputs": [],
   "source": [
    "def random_action(s, eps=0.1):\n",
    "    # with probability 1 - eps \n",
    "    a=policy[s]\n",
    "    p = np.random.random()\n",
    "    if p < (1 - eps):\n",
    "        return a\n",
    "    else:\n",
    "        return np.random.choice(ALL_POSSIBLE_ACTIONS)"
   ]
  },
  {
   "cell_type": "code",
   "execution_count": 21,
   "metadata": {
    "collapsed": true
   },
   "outputs": [],
   "source": [
    "def max_dict(d):\n",
    "  # returns the argmax (key) and max (value) from a dictionary\n",
    "  max_key = None\n",
    "  max_val = float('-inf')\n",
    "  for k, v in d.items():\n",
    "    if v > max_val:\n",
    "      max_val = v\n",
    "      max_key = k\n",
    "  return max_key, max_val"
   ]
  },
  {
   "cell_type": "code",
   "execution_count": 24,
   "metadata": {
    "collapsed": false
   },
   "outputs": [],
   "source": [
    "def move(action,i,j):\n",
    "    # check if legal move first\n",
    "    if action in actions[(i,j)]:\n",
    "      if action == 'U':\n",
    "        i -= 1\n",
    "      elif action == 'D':\n",
    "        i += 1\n",
    "      elif action == 'R':\n",
    "        j += 1\n",
    "      elif action == 'L':\n",
    "        j -= 1\n",
    "    # return a reward (if any)\n",
    "    return (rewards[(i,j)],i,j)\n",
    "\n",
    "\n",
    "def play_game(Grid, policy,start):\n",
    "  # returns a list of states and corresponding returns\n",
    "  # use an epsilon-soft policy\n",
    "    s=start\n",
    "    a = random_action(s)\n",
    "    # each triple is s(t), a(t), r(t)\n",
    "    # but r(t) results from taking action a(t-1) from s(t-1) and landing in s(t)\n",
    "    states_actions_rewards = [(s, a, 0)]\n",
    "    while True:\n",
    "        r,x,y = move(a,s[0],s[1])\n",
    "        s =(x,y)\n",
    "        if Grid[x][y]=='G':\n",
    "            states_actions_rewards.append((s, None, r))\n",
    "            break\n",
    "        else:\n",
    "            a = random_action(s) # the next state is stochastic\n",
    "            states_actions_rewards.append((s, a, r))\n",
    " \n",
    "  # calculate the returns by working backwards from the terminal state\n",
    "        G = 0\n",
    "        states_actions_returns = []\n",
    "        first = True\n",
    "    for s, a, r in reversed(states_actions_rewards):\n",
    "    # the value of the terminal state is 0 by definition\n",
    "    # we should ignore the first state we encounter\n",
    "    # and ignore the last G, which is meaningless since it doesn't correspond to any move\n",
    "        if first:\n",
    "            first = False\n",
    "        else:\n",
    "            states_actions_returns.append((s, a, G))\n",
    "            G = r + GAMMA*G\n",
    "    states_actions_returns.reverse() # we want it to be in order of state visited\n",
    "    return states_actions_returns"
   ]
  },
  {
   "cell_type": "code",
   "execution_count": 39,
   "metadata": {
    "collapsed": false
   },
   "outputs": [
    {
     "name": "stdout",
     "output_type": "stream",
     "text": [
      "here\n",
      "here\n",
      "here\n",
      "here\n",
      "here\n",
      "here\n",
      "here\n",
      "here\n",
      "here\n",
      "here\n",
      "here\n",
      "here\n",
      "here\n",
      "here\n",
      "here\n",
      "here\n",
      "here\n",
      "here\n",
      "here\n",
      "here\n",
      "here\n",
      "here\n",
      "here\n",
      "here\n",
      "here\n",
      "here\n",
      "here\n",
      "here\n",
      "here\n",
      "here\n",
      "here\n",
      "here\n",
      "here\n",
      "here\n",
      "here\n",
      "here\n",
      "here\n",
      "here\n",
      "here\n",
      "here\n",
      "here\n",
      "here\n",
      "here\n",
      "here\n",
      "here\n",
      "here\n",
      "here\n",
      "here\n",
      "here\n",
      "here\n"
     ]
    }
   ],
   "source": [
    "# repeat\n",
    "deltas = []\n",
    "for t in range(50):\n",
    "  # generate an episode using pi\n",
    "  biggest_change = 0\n",
    "  states_actions_returns = play_game(Grid, policy,start)\n",
    "\n",
    "  # calculate Q(s,a)\n",
    "  seen_state_action_pairs = set()\n",
    "  for s, a, G in states_actions_returns:\n",
    "    # check if we have already seen s\n",
    "    # called \"first-visit\" MC policy evaluation\n",
    "    sa = (s, a)\n",
    "    if sa not in seen_state_action_pairs:\n",
    "      old_q = Q[s][a]\n",
    "      returns[sa].append(G)\n",
    "      Q[s][a] = np.mean(returns[sa])\n",
    "      biggest_change = max(biggest_change, np.abs(old_q - Q[s][a]))\n",
    "      seen_state_action_pairs.add(sa)\n",
    "  deltas.append(biggest_change)\n",
    "  # calculate new policy pi(s) = argmax[a]{ Q(s,a) }\n",
    "  for s in policy.keys():\n",
    "    a, _ = max_dict(Q[s])\n",
    "    policy[s] = a\n",
    "  print(\"here\")"
   ]
  },
  {
   "cell_type": "code",
   "execution_count": 40,
   "metadata": {
    "collapsed": false
   },
   "outputs": [
    {
     "data": {
      "image/png": "[encoded data removed]",
      "text/plain": [
       "<matplotlib.figure.Figure at 0x183029470>"
      ]
     },
     "metadata": {},
     "output_type": "display_data"
    }
   ],
   "source": [
    "plt.plot(deltas)\n",
    "plt.show()"
   ]
  },
  {
   "cell_type": "code",
   "execution_count": 41,
   "metadata": {
    "collapsed": false
   },
   "outputs": [
    {
     "name": "stdout",
     "output_type": "stream",
     "text": [
      "final values:\n",
      "---------------------------\n",
      " 9.99| 9.99| 9.92| 9.98| 9.99| 10.00|\n",
      "---------------------------\n",
      " 9.99| 9.99| 9.98| 9.98| 10.00| 10.00|\n",
      "---------------------------\n",
      " 10.00| 10.00| 9.92| 9.97| 10.00| 10.00|\n",
      "---------------------------\n",
      " 9.99| 9.95| 9.96| 9.93| 9.97| 10.00|\n",
      "---------------------------\n",
      " 9.99| 9.99| 9.97| 9.96| 10.00| 10.00|\n",
      "---------------------------\n",
      " 10.00| 10.00| 9.98| 9.98| 0.00| 9.95|\n"
     ]
    }
   ],
   "source": [
    "def print_values(V, g):\n",
    "  for i in range(width):\n",
    "    print(\"---------------------------\")\n",
    "    for j in range(height):\n",
    "      v = V.get((i,j), 0)\n",
    "      if v >= 0:\n",
    "        print(\" %.2f|\" % v, end=\"\")\n",
    "      else:\n",
    "        print(\"%.2f|\" % v, end=\"\") # -ve sign takes up an extra space\n",
    "    print(\"\")\n",
    "# find the optimal state-value function\n",
    "# V(s) = max[a]{ Q(s,a) }\n",
    "V = {}\n",
    "for s in policy.keys():\n",
    "  V[s] = max_dict(Q[s])[1]\n",
    "\n",
    "print(\"final values:\")\n",
    "print_values(V, Grid)"
   ]
  },
  {
   "cell_type": "code",
   "execution_count": 42,
   "metadata": {
    "collapsed": false
   },
   "outputs": [
    {
     "name": "stdout",
     "output_type": "stream",
     "text": [
      "final policy:\n",
      "------------------------------------\n",
      "  L  |  L  |  R  |  R  |  R  |  D  |\n",
      "------------------------------------\n",
      "  L  |  L  |  L  |  R  |  R  |  R  |\n",
      "------------------------------------\n",
      "  U  |  L  |  L  |  R  |  R  |  U  |\n",
      "------------------------------------\n",
      "  U  |  U  |  D  |  D  |  R  |  U  |\n",
      "------------------------------------\n",
      "  D  |  D  |  D  |  L  |  R  |  U  |\n",
      "------------------------------------\n",
      "  U  |  L  |  D  |  L  |  U  |  U  |\n"
     ]
    }
   ],
   "source": [
    "print(\"final policy:\")\n",
    "print_policy(policy, Grid)"
   ]
  }
 ],
 "metadata": {
  "kernelspec": {
   "display_name": "Python 3",
   "language": "python",
   "name": "python3"
  }
 },
 "nbformat": 4,
 "nbformat_minor": 2
}
